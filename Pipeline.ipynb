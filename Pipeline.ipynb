{
 "cells": [
  {
   "cell_type": "markdown",
   "metadata": {},
   "source": [
    "# Warnings"
   ]
  },
  {
   "cell_type": "code",
   "execution_count": null,
   "metadata": {},
   "outputs": [],
   "source": [
    "import warnings\n",
    "warnings.filterwarnings('ignore')"
   ]
  },
  {
   "cell_type": "markdown",
   "metadata": {},
   "source": [
    "# Imports"
   ]
  },
  {
   "cell_type": "code",
   "execution_count": null,
   "metadata": {
    "ExecuteTime": {
     "end_time": "2023-05-20T08:11:49.004916Z",
     "start_time": "2023-05-20T08:11:48.057074Z"
    }
   },
   "outputs": [],
   "source": [
    "import numpy as np\n",
    "import pandas as pd\n",
    "from sklearn.linear_model import Lasso, Ridge\n",
    "from sklearn.svm import SVR\n",
    "from sklearn.preprocessing import PolynomialFeatures\n",
    "from sklearn.pipeline import Pipeline\n",
    "import pickle\n",
    "from sklearn.preprocessing import StandardScaler"
   ]
  },
  {
   "cell_type": "markdown",
   "metadata": {},
   "source": [
    "# Main tables"
   ]
  },
  {
   "cell_type": "code",
   "execution_count": null,
   "metadata": {},
   "outputs": [],
   "source": [
    "df = pd.read_parquet(\"./../SIBUR_2023/train.parquet\")\n",
    "df['target_class'] = (df['feature4'] == 'gas1') * 1\n",
    "df.drop(labels=['feature4'], axis=1, inplace=True)\n",
    "key_cols = ['target0', 'target1', 'target_class']\n",
    "cols_for_features = ['feature' + str(i) for i in range(25) if i != 4]"
   ]
  },
  {
   "cell_type": "markdown",
   "metadata": {},
   "source": [
    "_____"
   ]
  },
  {
   "cell_type": "markdown",
   "metadata": {},
   "source": [
    "_______"
   ]
  },
  {
   "cell_type": "markdown",
   "metadata": {},
   "source": [
    "# Models for target0 gas=2"
   ]
  },
  {
   "cell_type": "markdown",
   "metadata": {},
   "source": [
    "###### Ridge"
   ]
  },
  {
   "cell_type": "code",
   "execution_count": null,
   "metadata": {},
   "outputs": [],
   "source": [
    "current_target = 'target0'\n",
    "current_target_class = 0\n",
    "current_train = df[df['target_class'] == current_target_class].reset_index(drop=True)\n",
    "model = Pipeline([('polynom', PolynomialFeatures(degree=4)),\n",
    "                  ('ss', StandardScaler(with_std=True)),\n",
    "                  ('lasso', Ridge(alpha=5))])\n",
    "model.fit(current_train[cols_for_features], current_train[current_target])\n",
    "pickle.dump(model,\n",
    "    open('model_' + current_target + '_for_target_' + str(current_target_class) + '_big.pkl', 'wb'))"
   ]
  },
  {
   "cell_type": "markdown",
   "metadata": {},
   "source": [
    "_____"
   ]
  },
  {
   "cell_type": "markdown",
   "metadata": {},
   "source": [
    "# Models for target0 gas=1"
   ]
  },
  {
   "cell_type": "markdown",
   "metadata": {},
   "source": [
    "###### Lasso"
   ]
  },
  {
   "cell_type": "code",
   "execution_count": null,
   "metadata": {},
   "outputs": [],
   "source": [
    "current_target = 'target0'\n",
    "current_target_class = 1\n",
    "current_train = df[df['target_class'] == current_target_class].reset_index(drop=True)\n",
    "model = Pipeline([('polynom', PolynomialFeatures(degree=3)),\n",
    "                  ('model_ridge', Lasso(alpha=1))])\n",
    "model.fit(current_train[cols_for_features], current_train[current_target])\n",
    "pickle.dump(model,\n",
    "    open('model_' + current_target + '_for_target_' + str(current_target_class) + '.pkl', 'wb'))"
   ]
  },
  {
   "cell_type": "markdown",
   "metadata": {},
   "source": [
    "###### SVR"
   ]
  },
  {
   "cell_type": "code",
   "execution_count": null,
   "metadata": {},
   "outputs": [],
   "source": [
    "%%time\n",
    "current_target = 'target0'\n",
    "current_target_class = 1\n",
    "current_train = df[df['target_class'] == current_target_class].reset_index(drop=True)\n",
    "model = Pipeline([('model_ridge', SVR(kernel='poly', degree=4, C=3.0))])\n",
    "model.fit(current_train[cols_for_features], current_train[current_target])\n",
    "pickle.dump(model,\n",
    "    open('model_' + current_target + '_for_target_' + str(current_target_class) + '_svr_d4_C3.pkl', 'wb'))"
   ]
  },
  {
   "cell_type": "markdown",
   "metadata": {},
   "source": [
    "______"
   ]
  },
  {
   "cell_type": "markdown",
   "metadata": {},
   "source": [
    "# Models for target1 gas=2"
   ]
  },
  {
   "cell_type": "markdown",
   "metadata": {},
   "source": [
    "###### Lasso"
   ]
  },
  {
   "cell_type": "code",
   "execution_count": null,
   "metadata": {},
   "outputs": [],
   "source": [
    "current_target = 'target1'\n",
    "current_target_class = 0\n",
    "current_train = df[df['target_class'] == current_target_class].reset_index(drop=True)\n",
    "model = Pipeline([('polynom', PolynomialFeatures(degree=3)),\n",
    "                  ('model_ridge', Lasso(alpha=1))])\n",
    "model.fit(current_train[cols_for_features], current_train[current_target])\n",
    "pickle.dump(model,\n",
    "    open('model_' + current_target + '_for_target_' + str(current_target_class) + '.pkl', 'wb'))"
   ]
  },
  {
   "cell_type": "markdown",
   "metadata": {},
   "source": [
    "###### Ridge"
   ]
  },
  {
   "cell_type": "code",
   "execution_count": null,
   "metadata": {},
   "outputs": [],
   "source": [
    "current_target = 'target1'\n",
    "current_target_class = 0\n",
    "current_train = df[df['target_class'] == current_target_class].reset_index(drop=True)\n",
    "model = Pipeline([('polynom', PolynomialFeatures(degree=3)),\n",
    "                  ('ss', StandardScaler(with_std=True)),\n",
    "                  ('lasso', Ridge(alpha=0.01))])\n",
    "model.fit(current_train[cols_for_features], current_train[current_target])\n",
    "pickle.dump(model,\n",
    "    open('model_' + current_target + '_for_target_' + str(current_target_class) + '_ss_ridge_001.pkl', 'wb'))"
   ]
  },
  {
   "cell_type": "markdown",
   "metadata": {},
   "source": [
    "______"
   ]
  },
  {
   "cell_type": "markdown",
   "metadata": {},
   "source": [
    "# Models for target1 gas=1"
   ]
  },
  {
   "cell_type": "markdown",
   "metadata": {},
   "source": [
    "###### SVR"
   ]
  },
  {
   "cell_type": "code",
   "execution_count": null,
   "metadata": {},
   "outputs": [],
   "source": [
    "%%time\n",
    "current_target = 'target1'\n",
    "current_target_class = 1\n",
    "current_train = df[df['target_class'] == current_target_class].reset_index(drop=True)\n",
    "model = Pipeline([('model_ridge', SVR(kernel='poly', degree=5, C=3.0))])\n",
    "model.fit(current_train[cols_for_features], current_train[current_target])\n",
    "pickle.dump(model,\n",
    "    open('model_' + current_target + '_for_target_' + str(current_target_class) + '_svr_C_3.pkl', 'wb'))"
   ]
  },
  {
   "cell_type": "markdown",
   "metadata": {},
   "source": [
    "###### Lasso squares"
   ]
  },
  {
   "cell_type": "code",
   "execution_count": null,
   "metadata": {},
   "outputs": [],
   "source": [
    "%%time\n",
    "current_target = 'target1'\n",
    "current_target_class = 1\n",
    "train11 = df.loc[df['target_class'] == current_target_class, :].reset_index(drop=True)\n",
    "train11_target = train11[current_target].values\n",
    "train11 = train11[cols_for_features]\n",
    "for i in range(len(cols_for_features)):\n",
    "    train11[cols_for_features[i] + '_2'] = train11[cols_for_features[i]] * train11[cols_for_features[i]]\n",
    "model = Pipeline([('polynom', PolynomialFeatures(degree=3)),\n",
    "                  ('ss', StandardScaler()),\n",
    "                  ('lasso', Lasso(alpha=0.0001))])\n",
    "model.fit(train11, train11_target)\n",
    "pickle.dump(model,\n",
    "    open('model_' + current_target + '_for_target_' + str(current_target_class) + '_lasso_squares.pkl', 'wb'))"
   ]
  },
  {
   "cell_type": "markdown",
   "metadata": {},
   "source": [
    "_____"
   ]
  },
  {
   "cell_type": "markdown",
   "metadata": {},
   "source": [
    "_____"
   ]
  },
  {
   "cell_type": "markdown",
   "metadata": {},
   "source": [
    "_____"
   ]
  },
  {
   "cell_type": "markdown",
   "metadata": {},
   "source": [
    "# Create predict.py"
   ]
  },
  {
   "cell_type": "code",
   "execution_count": null,
   "metadata": {},
   "outputs": [],
   "source": [
    "%%writefile predict.py\n",
    "\n",
    "import warnings\n",
    "warnings.filterwarnings('ignore')\n",
    "\n",
    "import pathlib\n",
    "import pandas as pd\n",
    "import numpy as np\n",
    "import pickle\n",
    "from multiprocessing import Pool\n",
    "\n",
    "DATA_DIR = pathlib.Path(\".\")\n",
    "\n",
    "# Lasso\n",
    "MODEL_FILE_target01 = pathlib.Path(__file__).parent.joinpath(\"model_target0_for_target_1.pkl\")\n",
    "MODEL_FILE_target10 = pathlib.Path(__file__).parent.joinpath(\"model_target1_for_target_0.pkl\")\n",
    "\n",
    "# Ridge\n",
    "MODEL_FILE_target00_ridge = pathlib.Path(__file__).parent.joinpath(\"model_target0_for_target_0_big.pkl\")\n",
    "MODEL_FILE_target10_ridge = pathlib.Path(__file__).parent.joinpath(\"model_target1_for_target_0_ss_ridge_001.pkl\")\n",
    "\n",
    "# SVR\n",
    "MODEL_FILE_target01_svr = pathlib.Path(__file__).parent.joinpath(\"model_target0_for_target_1_svr_d4_C3.pkl\")\n",
    "MODEL_FILE_target11_svr = pathlib.Path(__file__).parent.joinpath(\"model_target1_for_target_1_svr_C_3.pkl\")\n",
    "\n",
    "# Square\n",
    "MODEL_FILE_target11_square = pathlib.Path(__file__).parent.joinpath(\"model_target1_for_target_1_lasso_squares.pkl\")\n",
    "\n",
    "\n",
    "models_dict = {}\n",
    "models_dict['target0'] = {}\n",
    "models_dict['target1'] = {}\n",
    "\n",
    "models_dict['target0'][0] = {}\n",
    "models_dict['target0'][0]['ridge'] = MODEL_FILE_target00_ridge\n",
    "\n",
    "models_dict['target0'][1] = {}\n",
    "models_dict['target0'][1]['lasso'] = MODEL_FILE_target01\n",
    "models_dict['target0'][1]['svr'] = MODEL_FILE_target01_svr\n",
    "\n",
    "models_dict['target1'][0] = {}\n",
    "models_dict['target1'][0]['lasso'] = MODEL_FILE_target10\n",
    "models_dict['target1'][0]['ridge'] = MODEL_FILE_target10_ridge\n",
    "\n",
    "models_dict['target1'][1] = {}\n",
    "models_dict['target1'][1]['svr'] = MODEL_FILE_target11_svr\n",
    "models_dict['target1'][1]['square'] = MODEL_FILE_target11_square\n",
    "\n",
    "def predict_batch(df: pd.DataFrame) -> pd.DataFrame:\n",
    "    \n",
    "    df['target_class'] = (df['feature4'] == 'gas1') * 1\n",
    "    df.drop(labels=['feature4'], axis=1, inplace=True)\n",
    "    key_cols = ['target0', 'target1', 'target_class']\n",
    "    cols_for_features = ['feature' + str(i) for i in range(25) if i != 4]\n",
    "    \n",
    "    predictions = df[['target_class']]\n",
    "    \n",
    "    \n",
    "    current_target = 'target0'\n",
    "    current_target_class = 0\n",
    "    current_test = df[df['target_class'] == current_target_class]\n",
    "    model_ridge = pickle.load(open(models_dict[current_target][current_target_class]['ridge'], 'rb'))\n",
    "    predictions.loc[current_test.index, current_target] = model_ridge.predict(current_test[cols_for_features])\n",
    "    \n",
    "    \n",
    "    current_target = 'target0'\n",
    "    current_target_class = 1\n",
    "    current_test = df[df['target_class'] == current_target_class]\n",
    "    model_lasso = pickle.load(open(models_dict[current_target][current_target_class]['lasso'], 'rb'))\n",
    "    model_svr = pickle.load(open(models_dict[current_target][current_target_class]['svr'], 'rb'))\n",
    "    predictions.loc[current_test.index, current_target] =\\\n",
    "                            (0.5 * model_lasso.predict(current_test[cols_for_features]) +\\\n",
    "                             0.5 * model_svr.predict(current_test[cols_for_features]))\n",
    "    \n",
    "    \n",
    "    current_target = 'target1'\n",
    "    current_target_class = 0\n",
    "    current_test = df[df['target_class'] == current_target_class]\n",
    "    model_lasso = pickle.load(open(models_dict[current_target][current_target_class]['lasso'], 'rb'))\n",
    "    model_ridge = pickle.load(open(models_dict[current_target][current_target_class]['ridge'], 'rb'))\n",
    "    predictions.loc[current_test.index, current_target] =\\\n",
    "                            (0.5 * model_lasso.predict(current_test[cols_for_features]) +\\\n",
    "                             0.5 * model_ridge.predict(current_test[cols_for_features]))\n",
    "    \n",
    "    \n",
    "    current_target = 'target1'\n",
    "    current_target_class = 1\n",
    "    current_test = df.loc[df['target_class'] == current_target_class]\n",
    "    model_svr = pickle.load(open(models_dict[current_target][current_target_class]['svr'], 'rb'))\n",
    "    \n",
    "    model_square = pickle.load(open(models_dict[current_target][current_target_class]['square'], 'rb'))\n",
    "    test11 = df.loc[df['target_class'] == current_target_class, cols_for_features]\n",
    "    for i in range(len(cols_for_features)):\n",
    "        test11[cols_for_features[i] + '_2'] = test11[cols_for_features[i]] * test11[cols_for_features[i]]\n",
    "        \n",
    "    predictions.loc[current_test.index, current_target] =\\\n",
    "                            (0.5 * model_square.predict(test11) +\\\n",
    "                             0.5 * model_svr.predict(current_test[cols_for_features]))\n",
    "\n",
    "    \n",
    "    predictions = predictions[['target0', 'target1']]\n",
    "    predictions['target0'] = np.clip(predictions['target0'], 0, 100)\n",
    "    predictions['target1'] = np.clip(predictions['target1'], 0, 100)\n",
    "    \n",
    "    return predictions\n",
    "\n",
    "def predict(df: pd.DataFrame) -> pd.DataFrame:\n",
    "    pool = Pool(4)\n",
    "    prediction_table = pool.map(predict_batch,\n",
    "                    [df.iloc[i * 5_000: (i + 1) * 5_000] for i in range(df.shape[0] // 5_000 + 1)])\n",
    "    return pd.concat(prediction_table).sort_index()\n"
   ]
  },
  {
   "cell_type": "markdown",
   "metadata": {},
   "source": [
    "_____"
   ]
  },
  {
   "cell_type": "markdown",
   "metadata": {},
   "source": [
    "_____"
   ]
  },
  {
   "cell_type": "markdown",
   "metadata": {},
   "source": [
    "_____"
   ]
  },
  {
   "cell_type": "markdown",
   "metadata": {},
   "source": [
    "_____"
   ]
  },
  {
   "cell_type": "markdown",
   "metadata": {},
   "source": [
    "_____"
   ]
  },
  {
   "cell_type": "markdown",
   "metadata": {},
   "source": [
    "_____"
   ]
  },
  {
   "cell_type": "markdown",
   "metadata": {},
   "source": [
    "_____"
   ]
  },
  {
   "cell_type": "markdown",
   "metadata": {},
   "source": [
    "_____"
   ]
  },
  {
   "cell_type": "markdown",
   "metadata": {},
   "source": [
    "_____"
   ]
  }
 ],
 "metadata": {
  "kernelspec": {
   "display_name": "likes",
   "language": "python",
   "name": "likes"
  },
  "language_info": {
   "codemirror_mode": {
    "name": "ipython",
    "version": 3
   },
   "file_extension": ".py",
   "mimetype": "text/x-python",
   "name": "python",
   "nbconvert_exporter": "python",
   "pygments_lexer": "ipython3",
   "version": "3.8.5"
  },
  "vscode": {
   "interpreter": {
    "hash": "8566eb0607572741f5df0b9bba8d97b510d80a4d430b258b7e0e8478f0b151dd"
   }
  }
 },
 "nbformat": 4,
 "nbformat_minor": 2
}
